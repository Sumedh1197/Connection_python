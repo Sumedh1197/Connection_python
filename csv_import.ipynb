{
 "cells": [
  {
   "cell_type": "code",
   "execution_count": 1,
   "metadata": {},
   "outputs": [],
   "source": [
    "#FLAT FILES(.csv,.txt)\n",
    "#In this notebook we will have a look at importing flat files into python.\n",
    "#If the files consists of numbers and we want to store them as a NumPy array we use NumPy package.\n",
    "#If it consists of strings and we want a dataframe then we must use the Pandas package.\n",
    "\n",
    "#Importing flat files using NumPy package\n",
    "\n",
    "import numpy as np "
   ]
  },
  {
   "cell_type": "code",
   "execution_count": 12,
   "metadata": {},
   "outputs": [
    {
     "name": "stderr",
     "output_type": "stream",
     "text": [
      "C:\\Users\\Admin\\Anaconda3\\lib\\site-packages\\ipykernel_launcher.py:11: VisibleDeprecationWarning: Reading unicode strings without specifying the encoding argument is deprecated. Set the encoding, use None for the system default.\n",
      "  # This is added back by InteractiveShellApp.init_path()\n"
     ]
    },
    {
     "name": "stdout",
     "output_type": "stream",
     "text": [
      "<class 'numpy.ndarray'>\n"
     ]
    },
    {
     "name": "stderr",
     "output_type": "stream",
     "text": [
      "C:\\Users\\Admin\\Anaconda3\\lib\\site-packages\\numpy\\lib\\npyio.py:2315: VisibleDeprecationWarning: Reading unicode strings without specifying the encoding argument is deprecated. Set the encoding, use None for the system default.\n",
      "  output = genfromtxt(fname, **kwargs)\n"
     ]
    },
    {
     "name": "stdout",
     "output_type": "stream",
     "text": [
      "<class 'numpy.recarray'>\n",
      "[(b'i can not believe that the city of muncie is so hard up for attention that they would embarrass themselves by allowing this show to be done there this show is like a slap in the face to real hard working law enforcement officers i have never before in my life seen anything so stupid in my life if they had billed it as a comedy that would be one thing but to say it is reality is nothing short of a lie i only saw it once and was appalled at what i saw i wanted to see the little guy get into a foot chase with a bad guy what a joke that would have been nothing on the show was even close to the real world the city of muncie the police chief and all the officers should be hanging their heads in shame and should never want o admit they come from that city no wonder it did not stay around on tv', 0)\n",
      " (b'ok i read the director s comment about this movie featured as the frontmost comment and i have to admit that i can identify with his position micheal i hope your career recovered from this particular setback and you went on to other better things i ve seen this movie in the mst k form even with all the chopped continuity and snotty remarks being tossed out by the robots i saw a potentially decent movie with an ambitious set of ideas trying to struggle out from under the limited budget and limited actors available to it and this is one of those films mitchell is another where the mst k crew took a lot of cheap shots at the lead character even when she actually deserved better you know they had some unfair fun at the actress expense because it made for a livelier episode imo the fact that the movie actually tried to be about something and had a few decent effective moments here and there should keep it out of the bottom tangents time chasers is another movie with a plot and a heart that does not deserve to be there either but it is still not a very good movie i do not blame the writer lead actress for being who she is it s just that her acting and writing skills needed a few more years to mature before she could pull off a vanity project such as this or carry a feature film the writing and characterization is amateurish and slapdash and the dialog is often barely up to abc afterschool special standards the cast sincerely gives it their best effort and the acting in general is definitely head and shoulders above abortions like future war or space mutiny but there are not any really professional level performances here with the exception of big joe estevez who is hammy but suitably intense i never saw the full original cut but mst s sampling of soultaker was representative enough to make these facts plain oh and the film has robert z dar in it that is imo a real kiss of death for any movie that hopes to be taken seriously yes he s big and scary looking in his role but i just hate the guy as an actor in real life i wish him well and hope he is financially comfortable there were little things i liked about the film for instance the camaraderie between the male lead and his dead buddy added some warmth and humor to the movie and made it a lot more watchable the idea of an elevator in the hospital that opened its doors to the afterlife was an inspired way to invoke some spooky vibes without springing for special effects and i respected whoever worked that into the script in attempt to keep the budget manageable it did not really work but it might have with just a little more tweaking so anyway mr rissi better luck with your other projects your involvement with this misfire would not keep me from watching something else you did if the buzz was good and ms miller has nothing to be ashamed of she was young and ambitious and the movie was not that bad', 0)\n",
      " (b'this movie leaves the intellectual mind thinking and trying to analyze the story i too cannot understand why people would trash this movie if you are a jerry bruckheimer fan this movie may not suitable for u this movie presents high degree of realism the actors and actresses performance is examplary not fake just natural no special sound effects so special side effects the camera work is excellent the music is oh so good i can not wait to get the soundtrack it leaves your body numb like constant garderner the directly has raw talent certainly not a follower', 1)\n",
      " (b'first of all the actor they have to play jesus has blue eyes half the actors they have playing jews have blue eyes are not there enough brown eyed actors out there jesus being depicted as having blue eyes is one of my pet peeves he was a full blooded jew second of all what is it with old english language movies that are supposed to take place in non english speaking countries and everybody has english accents another example is david lean s dr zhivago are not there enough either jewish actors or actors who can do a israeli accent the movie often is not true to the scriptures and so seems to doubt the legitimacy of jesus s claim to be the messiah in the bible when jesus is baptized by john a voice comes from heaven saying this is my beloved son in whom i am well pleased matthew mark luke in the movie john the baptist says this the screenwriter seems to be trying to portray the believers as crazy as well for example in the bible the angel gabriel tells mary she will become pregnant with the son of god luke but in the movie we do not see or hear any angel mary appears to be talking to a moonbeam and when mary s mother hears her talking to someone and peeks in on her she does not hear or see anyone either also in the movie when jesus is speaking to the pharisees in the temple in jerusalem he says you shall not see me here again not until you learn to cry blessed is he who comes in the name of the lord for i and my father are one and the same the correct line matthew and luke is you will not see me again until you say blessed is he who comes in the name of the lord period jesus never claimed to be god the movie cuts out a lot of important parts the sermon on the mount is very expurgated but then spends a lot of time on stuff that is not even in the bible a whole scene with mary magdalene talking with a john it seems like the screenwriter instead of wanting to do a movie version of the scriptures wanted to make a movie about what he thinks might have really happened behind and between the scenes the movie has one gem though during the scene where jesus tells the parable of the prodigal son at matthew the tax collector s house i had tears streaming down my face it is the best movie i ve seen about jesus s ministry but that is not saying much because the others are just terrible jesus christ superstar is my favourite movie about jesus s last days the passion of the christ is way too graphic though i like how jesus of nazareth instead of just ending with jesus s death continues on and shows his resurrection', 0)]\n"
     ]
    }
   ],
   "source": [
    "#Assign the filename with extension to a variable \n",
    "#I will be loading the Imdb movie reviews dataset which is in my current working directory \n",
    "#Most of the time you will need to import datasets which have different datatypes in different columns; \n",
    "#one column may contain strings and another floats, for example. \n",
    "#The function np.loadtxt() will freak at this. There is another function, np.genfromtxt() , which can handle such structures. \n",
    "#If we pass dtype=None to it, it will figure out what types each column should be.\n",
    "flat_file = 'imdb_final.csv'\n",
    "\n",
    "#We will load this file as an array using the loadtxt() function \n",
    "\n",
    "file_load = np.genfromtxt(flat_file, delimiter= ',',names = True, dtype= None)\n",
    "\n",
    "#Let us check the type of file imported \n",
    "print(type(file_load))\n",
    "\n",
    "#There is also another function np.recfromcsv() that behaves similarly to np.genfromtxt(), \n",
    "#except that its default dtype is None.\n",
    "\n",
    "file_load1= np.recfromcsv(flat_file)\n",
    "print(type(file_load1))\n",
    "print(file_load[0:4])\n",
    "\n",
    "#We can see the first 4 reviews as well"
   ]
  },
  {
   "cell_type": "code",
   "execution_count": 13,
   "metadata": {},
   "outputs": [
    {
     "name": "stdout",
     "output_type": "stream",
     "text": [
      "<class 'pandas.core.frame.DataFrame'>\n",
      "                                              review  sentiment\n",
      "0  i can not believe that the city of muncie is s...          0\n",
      "1  ok i read the director s comment about this mo...          0\n"
     ]
    }
   ],
   "source": [
    "#Let us shift our attention to pandas package which is used more frequently for importing csv files into python.\n",
    "#Pandas package offers more functionality hence it is the preferred choice for most data scientists\n",
    "\n",
    "import pandas as pd \n",
    "\n",
    "file_load2= pd.read_csv('imdb_final.csv')\n",
    "\n",
    "print(type(file_load2))\n",
    "print(file_load2[0:2])\n",
    "\n",
    "#Pandas package for creating dataframes- pd.read_csv() function for reading flat files and converting into dataframe."
   ]
  },
  {
   "cell_type": "code",
   "execution_count": 15,
   "metadata": {},
   "outputs": [
    {
     "data": {
      "text/html": [
       "<div>\n",
       "<style scoped>\n",
       "    .dataframe tbody tr th:only-of-type {\n",
       "        vertical-align: middle;\n",
       "    }\n",
       "\n",
       "    .dataframe tbody tr th {\n",
       "        vertical-align: top;\n",
       "    }\n",
       "\n",
       "    .dataframe thead th {\n",
       "        text-align: right;\n",
       "    }\n",
       "</style>\n",
       "<table border=\"1\" class=\"dataframe\">\n",
       "  <thead>\n",
       "    <tr style=\"text-align: right;\">\n",
       "      <th></th>\n",
       "      <th>0</th>\n",
       "      <th>1</th>\n",
       "    </tr>\n",
       "  </thead>\n",
       "  <tbody>\n",
       "    <tr>\n",
       "      <th>0</th>\n",
       "      <td>review</td>\n",
       "      <td>sentiment</td>\n",
       "    </tr>\n",
       "    <tr>\n",
       "      <th>1</th>\n",
       "      <td>i can not believe that the city of muncie is s...</td>\n",
       "      <td>0</td>\n",
       "    </tr>\n",
       "    <tr>\n",
       "      <th>2</th>\n",
       "      <td>ok i read the director s comment about this mo...</td>\n",
       "      <td>0</td>\n",
       "    </tr>\n",
       "    <tr>\n",
       "      <th>3</th>\n",
       "      <td>this movie leaves the intellectual mind thinki...</td>\n",
       "      <td>1</td>\n",
       "    </tr>\n",
       "    <tr>\n",
       "      <th>4</th>\n",
       "      <td>first of all the actor they have to play jesus...</td>\n",
       "      <td>0</td>\n",
       "    </tr>\n",
       "  </tbody>\n",
       "</table>\n",
       "</div>"
      ],
      "text/plain": [
       "                                                   0          1\n",
       "0                                             review  sentiment\n",
       "1  i can not believe that the city of muncie is s...          0\n",
       "2  ok i read the director s comment about this mo...          0\n",
       "3  this movie leaves the intellectual mind thinki...          1\n",
       "4  first of all the actor they have to play jesus...          0"
      ]
     },
     "execution_count": 15,
     "metadata": {},
     "output_type": "execute_result"
    }
   ],
   "source": [
    "#We can customise our Pandas import by adding arguments. The different arguments can be found in the package description \n",
    "#Read only the first 10 rows into your dataframe\n",
    "customised_import_df = pd.read_csv('imdb_final.csv',nrows=10,header= None)\n",
    "customised_import_df.head()"
   ]
  },
  {
   "cell_type": "code",
   "execution_count": null,
   "metadata": {},
   "outputs": [],
   "source": []
  }
 ],
 "metadata": {
  "kernelspec": {
   "display_name": "Python 3",
   "language": "python",
   "name": "python3"
  },
  "language_info": {
   "codemirror_mode": {
    "name": "ipython",
    "version": 3
   },
   "file_extension": ".py",
   "mimetype": "text/x-python",
   "name": "python",
   "nbconvert_exporter": "python",
   "pygments_lexer": "ipython3",
   "version": "3.7.3"
  }
 },
 "nbformat": 4,
 "nbformat_minor": 2
}
